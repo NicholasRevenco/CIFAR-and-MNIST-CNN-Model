{
  "nbformat": 4,
  "nbformat_minor": 0,
  "metadata": {
    "colab": {
      "provenance": [],
      "gpuType": "T4"
    },
    "kernelspec": {
      "name": "python3",
      "display_name": "Python 3"
    },
    "language_info": {
      "name": "python"
    },
    "accelerator": "GPU"
  },
  "cells": [
    {
      "cell_type": "markdown",
      "source": [
        "# Understanding CIFAR Data\n",
        "\n",
        "CIFAR is a dataset that consists of 60,000 32x32 color images in 10 classes, with 6,000 images per class. There are 50,000 training images and 10,000 test images. It is a more general dataset compared to MNIST and suitable for a more complex image recognition problem.\n",
        "\n",
        "We're going to follow a similar process as we did with the MNIST dataset to prepare this data for our neural network.\n"
      ],
      "metadata": {
        "id": "_h9E3N3uN14Q"
      }
    },
    {
      "cell_type": "code",
      "source": [
        "# Import the necessary modules from specific libraries\n",
        "import tensorflow as tf\n",
        "from tensorflow import keras\n",
        "from tensorflow.keras.datasets import cifar10\n",
        "from tensorflow.keras import backend as K\n",
        "import numpy as np\n",
        "import matplotlib.pyplot as plt\n",
        "%matplotlib inline\n"
      ],
      "metadata": {
        "id": "mYZcrnJORXdw"
      },
      "execution_count": null,
      "outputs": []
    },
    {
      "cell_type": "markdown",
      "source": [
        "The first part of the script is dedicated to importing the necessary modules from the libraries we're going to use. TensorFlow and Keras are two of the most commonly used libraries for building deep learning models. We import the CIFAR-10 dataset from Keras. The matplotlib library is used for plotting, and we'll use numpy for mathematical operations.\n",
        "\n"
      ],
      "metadata": {
        "id": "GSxZ5b_yRYjp"
      }
    },
    {
      "cell_type": "code",
      "source": [
        "# Helper functions\n",
        "def show_min_max(array, i):\n",
        "  random_image = array[i]\n",
        "  print(\"min and max value in image: \", random_image.min(), random_image.max())\n",
        "\n",
        "def plot_image(array, i, labels):\n",
        "  plt.imshow(np.squeeze(array[i]))\n",
        "  plt.title(str(label_names[labels[i]]))\n",
        "  plt.xticks([])\n",
        "  plt.yticks([])\n",
        "  plt.show()\n"
      ],
      "metadata": {
        "id": "1dex2-RFRZfx"
      },
      "execution_count": null,
      "outputs": []
    },
    {
      "cell_type": "markdown",
      "source": [
        "These helper functions are defined to help visualize the data in the CIFAR-10 dataset. The show_min_max function prints the minimum and maximum values in an image, which can help understand the data range. The plot_image function is used to display an image from the dataset, along with its label.\n",
        "\n"
      ],
      "metadata": {
        "id": "fVeyac81RaVt"
      }
    },
    {
      "cell_type": "code",
      "source": [
        "img_rows = 32\n",
        "img_cols = 32\n",
        "\n",
        "num_classes = 10\n",
        "\n",
        "input_shape = (img_rows, img_cols, 3)\n",
        "\n",
        "# Load CIFAR-10 data\n",
        "(train_images, train_labels), (test_images, test_labels) = cifar10.load_data()\n",
        "\n",
        "(train_images_backup, train_labels_backup), (test_images_backup, test_labels_backup) = cifar10.load_data()\n"
      ],
      "metadata": {
        "colab": {
          "base_uri": "https://localhost:8080/"
        },
        "id": "OzE4V51GRbA-",
        "outputId": "e1841d17-be96-496c-8434-d042cd84d6ca"
      },
      "execution_count": null,
      "outputs": [
        {
          "output_type": "stream",
          "name": "stdout",
          "text": [
            "Downloading data from https://www.cs.toronto.edu/~kriz/cifar-10-python.tar.gz\n",
            "170498071/170498071 [==============================] - 3s 0us/step\n"
          ]
        }
      ]
    },
    {
      "cell_type": "markdown",
      "source": [
        "We specify some constants regarding the images' dimensions and the number of classes in the CIFAR-10 dataset. The CIFAR-10 dataset, containing 60,000 32x32 color images in 10 classes, is loaded using cifar10.load_data().\n",
        "\n"
      ],
      "metadata": {
        "id": "cd-m3-IlRcEB"
      }
    },
    {
      "cell_type": "code",
      "source": [
        "# Define the names of labels in CIFAR-10 dataset\n",
        "label_names=['airplane', 'automobile', 'bird', 'cat', 'deer', 'dog', 'frog', 'horse', 'ship', 'truck']\n",
        "\n",
        "# Flatten the label lists\n",
        "train_labels_backup = [item for sublist in train_labels_backup for item in sublist]\n",
        "test_labels_backup = [item for sublist in test_labels_backup for item in sublist]\n",
        "\n",
        "print(train_images.shape)\n",
        "print(test_images.shape)\n",
        "\n",
        "# Display the image at index 100 and the min and max pixel values of it\n",
        "plot_image(train_images, 100, train_labels_backup)\n",
        "show_min_max(train_images, 100)\n"
      ],
      "metadata": {
        "colab": {
          "base_uri": "https://localhost:8080/",
          "height": 480
        },
        "id": "w_TG27bzRczs",
        "outputId": "8e66e2a3-f56a-4626-a22b-fe4b89417e4f"
      },
      "execution_count": null,
      "outputs": [
        {
          "output_type": "stream",
          "name": "stdout",
          "text": [
            "(50000, 32, 32, 3)\n",
            "(10000, 32, 32, 3)\n"
          ]
        },
        {
          "output_type": "display_data",
          "data": {
            "text/plain": [
              "<Figure size 640x480 with 1 Axes>"
            ],
            "image/png": "[encoded data removed]"
          },
          "metadata": {}
        },
        {
          "output_type": "stream",
          "name": "stdout",
          "text": [
            "min and max value in image:  30 242\n"
          ]
        }
      ]
    },
    {
      "cell_type": "markdown",
      "source": [
        "The code defines the labels corresponding to the ten classes in the CIFAR-10 dataset. It flattens the label lists and prints the shape of the training and test images. The image at index 100 and the min and max pixel values of it are displayed.\n",
        "\n"
      ],
      "metadata": {
        "id": "uBM_f6qFRe06"
      }
    },
    {
      "cell_type": "code",
      "source": [
        "# Convert the image matrices into float32 type\n",
        "train_images = train_images.astype('float32')\n",
        "test_images = test_images.astype('float32')\n",
        "\n",
        "# Normalize the pixel values\n",
        "train_images /= 255\n",
        "test_images /= 255\n",
        "\n",
        "# Display the image at index 100 and the min and max pixel values of it after normalization\n",
        "plot_image(train_images, 100, train_labels_backup)\n",
        "show_min_max(train_images, 100)\n",
        "\n",
        "# Convert the labels into categorical type\n",
        "train_labels = keras.utils.to_categorical(train_labels, num_classes)\n",
        "test_labels = keras.utils.to_categorical(test_labels, num_classes)\n"
      ],
      "metadata": {
        "colab": {
          "base_uri": "https://localhost:8080/",
          "height": 445
        },
        "id": "aQ9qfWlwRfyJ",
        "outputId": "73a969c3-b03b-476a-baf1-91d3837ac2fd"
      },
      "execution_count": null,
      "outputs": [
        {
          "output_type": "display_data",
          "data": {
            "text/plain": [
              "<Figure size 640x480 with 1 Axes>"
            ],
            "image/png": "[encoded data removed]"
          },
          "metadata": {}
        },
        {
          "output_type": "stream",
          "name": "stdout",
          "text": [
            "min and max value in image:  0.11764706 0.9490196\n"
          ]
        }
      ]
    },
    {
      "cell_type": "markdown",
      "source": [
        "This section converts the images to floating-point numbers and normalizes them so that pixel values are between 0 and 1, which is an important preprocessing step for neural network inputs. It then converts the labels into one-hot vectors, which are binary matrices representing the class of each image.\n",
        "\n"
      ],
      "metadata": {
        "id": "HyrlWspERjeW"
      }
    },
    {
      "cell_type": "code",
      "source": [
        "# Import the necessary modules to build the CNN\n",
        "from tensorflow.keras.models import Sequential\n",
        "from tensorflow.keras.layers import Dense, Dropout, Flatten, Conv2D, MaxPooling2D, BatchNormalization\n"
      ],
      "metadata": {
        "id": "3it6ighlRk3c"
      },
      "execution_count": null,
      "outputs": []
    },
    {
      "cell_type": "markdown",
      "source": [
        "Here, we import the necessary modules to build our CNN model using Keras.\n",
        "\n"
      ],
      "metadata": {
        "id": "HDz_xUwuRl6L"
      }
    },
    {
      "cell_type": "code",
      "source": [
        "epochs = 15\n",
        "batch_size = 64\n",
        "\n",
        "# Initiate the model\n",
        "model = Sequential()\n"
      ],
      "metadata": {
        "id": "LDgbrUpURmrp"
      },
      "execution_count": null,
      "outputs": []
    },
    {
      "cell_type": "markdown",
      "source": [
        "We then define some hyperparameters for the model training, such as the number of epochs (the number of times the model will go through the entire training dataset) and the batch size (the number of training examples utilized in one iteration). The Sequential model is a linear stack of layers that we can start adding to.\n",
        "\n"
      ],
      "metadata": {
        "id": "NRuC0lP9Rnxo"
      }
    },
    {
      "cell_type": "code",
      "source": [
        "# Build the CNN model\n",
        "model.add(Conv2D(filters=32, kernel_size=(3, 3), activation='relu', input_shape=input_shape))\n",
        "model.add(Conv2D(filters=64, kernel_size=(3, 3), activation='relu'))\n",
        "model.add(MaxPooling2D(pool_size=(2, 2)))\n",
        "model.add(Dropout(rate=0.2))\n",
        "\n",
        "model.add(BatchNormalization())\n",
        "\n",
        "model.add(Conv2D(filters=64, kernel_size=(3, 3), activation='relu'))\n",
        "model.add(MaxPooling2D(pool_size=(1, 1)))\n",
        "model.add(Dropout(rate=0.3))\n",
        "model.add(BatchNormalization())\n",
        "\n",
        "model.add(Conv2D(filters=128, kernel_size=(3, 3), activation='relu'))\n",
        "model.add(Conv2D(filters=64, kernel_size=(3, 3), activation='relu'))\n",
        "model.add(MaxPooling2D(pool_size=(1, 1)))\n",
        "model.add(Dropout(rate=0.3))\n",
        "model.add(BatchNormalization())\n",
        "\n",
        "model.add(Flatten())\n",
        "model.add(Dense(units=128, activation='relu'))\n",
        "model.add(Dense(units=num_classes,activation='softmax'))\n",
        "\n",
        "# Print the model summary\n",
        "model.summary()\n"
      ],
      "metadata": {
        "colab": {
          "base_uri": "https://localhost:8080/"
        },
        "id": "p2SF_SBVRpDE",
        "outputId": "dafc0277-664e-4c2e-d83c-a6b7cb38cb58"
      },
      "execution_count": null,
      "outputs": [
        {
          "output_type": "stream",
          "name": "stdout",
          "text": [
            "Model: \"sequential\"\n",
            "_________________________________________________________________\n",
            " Layer (type)                Output Shape              Param #   \n",
            "=================================================================\n",
            " conv2d (Conv2D)             (None, 30, 30, 32)        896       \n",
            "                                                                 \n",
            " conv2d_1 (Conv2D)           (None, 28, 28, 64)        18496     \n",
            "                                                                 \n",
            " max_pooling2d (MaxPooling2D  (None, 14, 14, 64)       0         \n",
            " )                                                               \n",
            "                                                                 \n",
            " dropout (Dropout)           (None, 14, 14, 64)        0         \n",
            "                                                                 \n",
            " batch_normalization (BatchN  (None, 14, 14, 64)       256       \n",
            " ormalization)                                                   \n",
            "                                                                 \n",
            " conv2d_2 (Conv2D)           (None, 12, 12, 64)        36928     \n",
            "                                                                 \n",
            " max_pooling2d_1 (MaxPooling  (None, 12, 12, 64)       0         \n",
            " 2D)                                                             \n",
            "                                                                 \n",
            " dropout_1 (Dropout)         (None, 12, 12, 64)        0         \n",
            "                                                                 \n",
            " batch_normalization_1 (Batc  (None, 12, 12, 64)       256       \n",
            " hNormalization)                                                 \n",
            "                                                                 \n",
            " conv2d_3 (Conv2D)           (None, 10, 10, 128)       73856     \n",
            "                                                                 \n",
            " conv2d_4 (Conv2D)           (None, 8, 8, 64)          73792     \n",
            "                                                                 \n",
            " max_pooling2d_2 (MaxPooling  (None, 8, 8, 64)         0         \n",
            " 2D)                                                             \n",
            "                                                                 \n",
            " dropout_2 (Dropout)         (None, 8, 8, 64)          0         \n",
            "                                                                 \n",
            " batch_normalization_2 (Batc  (None, 8, 8, 64)         256       \n",
            " hNormalization)                                                 \n",
            "                                                                 \n",
            " flatten (Flatten)           (None, 4096)              0         \n",
            "                                                                 \n",
            " dense (Dense)               (None, 128)               524416    \n",
            "                                                                 \n",
            " dense_1 (Dense)             (None, 10)                1290      \n",
            "                                                                 \n",
            "=================================================================\n",
            "Total params: 730,442\n",
            "Trainable params: 730,058\n",
            "Non-trainable params: 384\n",
            "_________________________________________________________________\n"
          ]
        }
      ]
    },
    {
      "cell_type": "markdown",
      "source": [
        "After building our CNN model, we use model.summary() to print a summary representation of the model. This will show the structure of the model, layer-by-layer, along with the number of parameters (weights and biases) in each layer.\n",
        "\n"
      ],
      "metadata": {
        "id": "GjV1ZFRuRqbl"
      }
    },
    {
      "cell_type": "code",
      "source": [
        "# Compile the model\n",
        "model.compile(loss=keras.losses.categorical_crossentropy, optimizer='adam', metrics=['accuracy'])\n"
      ],
      "metadata": {
        "id": "kp3Je2_GRzy6"
      },
      "execution_count": null,
      "outputs": []
    },
    {
      "cell_type": "markdown",
      "source": [
        "The model is compiled with the Adam optimizer, a commonly used optimizer because of its computational efficiency and good performance on a wide range of problems. The categorical cross-entropy is used as the loss function which is suitable for multi-class classification problems. The metric used to evaluate the model is accuracy, the fraction of images that are correctly classified.\n",
        "\n"
      ],
      "metadata": {
        "id": "G81xE4NDR0rQ"
      }
    },
    {
      "cell_type": "code",
      "source": [
        "# Train the model\n",
        "model.fit(train_images, train_labels, batch_size=batch_size, epochs=epochs, validation_data=(test_images, test_labels), shuffle=True)\n"
      ],
      "metadata": {
        "colab": {
          "base_uri": "https://localhost:8080/"
        },
        "id": "RP6qTHnmR21N",
        "outputId": "63034956-3021-42c0-99c7-d7921fade773"
      },
      "execution_count": null,
      "outputs": [
        {
          "output_type": "stream",
          "name": "stdout",
          "text": [
            "Epoch 1/15\n",
            "782/782 [==============================] - 24s 13ms/step - loss: 1.5333 - accuracy: 0.4563 - val_loss: 1.1958 - val_accuracy: 0.5720\n",
            "Epoch 2/15\n",
            "782/782 [==============================] - 9s 12ms/step - loss: 1.0656 - accuracy: 0.6201 - val_loss: 1.2949 - val_accuracy: 0.5709\n",
            "Epoch 3/15\n",
            "782/782 [==============================] - 9s 11ms/step - loss: 0.8855 - accuracy: 0.6853 - val_loss: 0.9707 - val_accuracy: 0.6713\n",
            "Epoch 4/15\n",
            "782/782 [==============================] - 13s 16ms/step - loss: 0.7762 - accuracy: 0.7248 - val_loss: 0.8731 - val_accuracy: 0.6994\n",
            "Epoch 5/15\n",
            "782/782 [==============================] - 9s 12ms/step - loss: 0.7046 - accuracy: 0.7502 - val_loss: 0.9768 - val_accuracy: 0.6713\n",
            "Epoch 6/15\n",
            "782/782 [==============================] - 9s 12ms/step - loss: 0.6524 - accuracy: 0.7702 - val_loss: 0.7252 - val_accuracy: 0.7605\n",
            "Epoch 7/15\n",
            "782/782 [==============================] - 9s 11ms/step - loss: 0.5978 - accuracy: 0.7883 - val_loss: 0.9631 - val_accuracy: 0.6958\n",
            "Epoch 8/15\n",
            "782/782 [==============================] - 10s 13ms/step - loss: 0.5563 - accuracy: 0.8016 - val_loss: 0.7371 - val_accuracy: 0.7573\n",
            "Epoch 9/15\n",
            "782/782 [==============================] - 9s 12ms/step - loss: 0.5231 - accuracy: 0.8159 - val_loss: 0.7660 - val_accuracy: 0.7474\n",
            "Epoch 10/15\n",
            "782/782 [==============================] - 10s 13ms/step - loss: 0.4893 - accuracy: 0.8267 - val_loss: 0.7100 - val_accuracy: 0.7655\n",
            "Epoch 11/15\n",
            "782/782 [==============================] - 9s 11ms/step - loss: 0.4637 - accuracy: 0.8356 - val_loss: 0.7124 - val_accuracy: 0.7643\n",
            "Epoch 12/15\n",
            "782/782 [==============================] - 10s 13ms/step - loss: 0.4360 - accuracy: 0.8457 - val_loss: 0.7015 - val_accuracy: 0.7773\n",
            "Epoch 13/15\n",
            "782/782 [==============================] - 9s 11ms/step - loss: 0.4140 - accuracy: 0.8528 - val_loss: 0.8084 - val_accuracy: 0.7509\n",
            "Epoch 14/15\n",
            "782/782 [==============================] - 10s 12ms/step - loss: 0.3905 - accuracy: 0.8611 - val_loss: 0.6704 - val_accuracy: 0.7847\n",
            "Epoch 15/15\n",
            "782/782 [==============================] - 9s 11ms/step - loss: 0.3688 - accuracy: 0.8677 - val_loss: 0.6798 - val_accuracy: 0.7913\n"
          ]
        },
        {
          "output_type": "execute_result",
          "data": {
            "text/plain": [
              "<keras.callbacks.History at 0x7ae2910aa500>"
            ]
          },
          "metadata": {},
          "execution_count": 10
        }
      ]
    },
    {
      "cell_type": "markdown",
      "source": [
        "The model is trained using the fit function, which fits the model to the training data. Here, the model learns to associate the images with labels. It also validates the model on a holdout dataset, the test set, after each epoch.\n",
        "\n"
      ],
      "metadata": {
        "id": "bwzhcxjER4DH"
      }
    },
    {
      "cell_type": "code",
      "source": [
        "# Evaluate the model\n",
        "scores = model.evaluate(test_images, test_labels,verbose=0)\n",
        "print('Test accuracy:', scores[1])\n"
      ],
      "metadata": {
        "colab": {
          "base_uri": "https://localhost:8080/"
        },
        "id": "2VJiTr_9R49O",
        "outputId": "be28937c-717a-4918-d945-ffc62967f943"
      },
      "execution_count": null,
      "outputs": [
        {
          "output_type": "stream",
          "name": "stdout",
          "text": [
            "Test accuracy: 0.7912999987602234\n"
          ]
        }
      ]
    },
    {
      "cell_type": "markdown",
      "source": [
        "Once the model has been trained, it's important to evaluate its performance on a dataset it hasn't seen before. This is done by using the evaluate function to assess the model's performance on the test dataset.\n",
        "\n"
      ],
      "metadata": {
        "id": "N3oE0JfpR6Jg"
      }
    },
    {
      "cell_type": "code",
      "source": [
        "# Save the model\n",
        "model.save('my_model.h5')\n"
      ],
      "metadata": {
        "id": "BQeoAbP3R7Jq"
      },
      "execution_count": null,
      "outputs": []
    },
    {
      "cell_type": "markdown",
      "source": [
        "Finally, we save the trained model as an HDF5 file, which is the format preferred by Keras. It will include the model architecture, optimizer, and also the states of all model weights. We can reload the model later with the function keras.models.load_model(filepath).\n",
        "\n",
        "This entire script demonstrates how to build, train, and evaluate a deep learning model for image classification using Keras. The specific model used is a convolutional neural network, which is well-suited for image data.\n",
        "\n",
        "If you would like to test your model, you can find an image of one of the possible outputs, upload it here, and then run the command below. I will not get into the details of the program below because it is not that difficult to replicate and is just there to see how your model did with an image you inputed."
      ],
      "metadata": {
        "id": "FTCG3kPuR9Hx"
      }
    },
    {
      "cell_type": "code",
      "source": [
        "import keras.utils as image\n",
        "from PIL import Image,ImageChops\n",
        "import tensorflow as tf\n",
        "from tensorflow import keras\n",
        "from tensorflow.keras.datasets import cifar10\n",
        "from tensorflow.keras import backend as K\n",
        "import numpy as np\n",
        "import matplotlib.pyplot as plt\n",
        "%matplotlib inline\n",
        "\n",
        "# Load in the original data\n",
        "(train_images, train_labels), (test_images, test_labels) = cifar10.load_data()\n",
        "(train_images_backup, train_labels_backup), (test_images_backup, test_labels_backup) = cifar10.load_data()\n",
        "\n",
        "print(\"CIFAR10 data loaded\")\n",
        "\n",
        "label_names=['airplane', 'automobile', 'bird', 'cat', 'deer', 'dog', 'frog', 'horse', 'ship', 'truck']\n",
        "train_labels_backup = [item for sublist in train_labels_backup for item in sublist]\n",
        "test_labels_backup = [item for sublist in test_labels_backup for item in sublist]\n",
        "\n",
        "# This will work for the models if you download them from the links above.\n",
        "# If you want to export your own models, use the name of them here instead.\n",
        "model_1 = tf.keras.models.load_model('my_model.h5')\n",
        "# model_2 = tf.keras.models.load_model('cnn_model.h5')\n",
        "\n",
        "def plot_image(array, i, labels):\n",
        "  plt.imshow(np.squeeze(array[i]))\n",
        "  plt.title(\" This is \" + label_names[labels[i]])\n",
        "  plt.xticks([])\n",
        "  plt.yticks([])\n",
        "  plt.show()\n",
        "\n",
        "def predict_image(model, x):\n",
        "  x = x.astype('float32')\n",
        "  x = x / 255.0\n",
        "\n",
        "  x = np.expand_dims(x, axis=0)\n",
        "\n",
        "  image_predict = model.predict(x, verbose=0)\n",
        "  print(\"Predicted Label: \", label_names[np.argmax(image_predict)])\n",
        "\n",
        "  plt.imshow(np.squeeze(x))\n",
        "  plt.xticks([])\n",
        "  plt.yticks([])\n",
        "  plt.show()\n",
        "\n",
        "  # uncomment this like if you want to see the array of predictions\n",
        "  # print(image_predict)\n",
        "  return image_predict\n",
        "\n",
        "\n",
        "def plot_value_array(predictions_array, true_label, h):\n",
        "  plt.grid(False)\n",
        "  plt.xticks(range(10))\n",
        "  plt.yticks([])\n",
        "  thisplot = plt.bar(range(10), predictions_array[0], color=\"#777777\")\n",
        "  plt.ylim([(-1*h), h])\n",
        "  predicted_label = np.argmax(predictions_array)\n",
        "\n",
        "  thisplot[predicted_label].set_color('red')\n",
        "  thisplot[true_label].set_color('blue')\n",
        "  plt.show()\n",
        "\n",
        "\n",
        "# Code to load an image called 'test3w.jpg'\n",
        "# To use a different image upload it and change the name here.\n",
        "path = \"testfrog.jpg\"\n",
        "img = image.load_img(path, target_size=(32,32), color_mode = \"rgb\")\n",
        "x = image.img_to_array(img)\n",
        "true_label = 6\n",
        "\n",
        "# Predicting the label using model_1.\n",
        "p_arr = predict_image(model_1, x)\n",
        "# This will plot the values on a graph. The last argument is the height of the y-axis.\n",
        "plot_value_array(p_arr, true_label, 1)\n",
        "\n",
        "# Displaying the 100th image from the original dataset\n",
        "plot_image(test_images, 100, test_labels_backup)\n",
        "\n",
        "# Predicting the label using model_1 on an image from test_images\n",
        "img_loc = 100\n",
        "img = test_images[img_loc]\n",
        "x = image.img_to_array(img)\n",
        "p_arr = predict_image(model_1, x)\n",
        "true_label = test_labels_backup[img_loc]\n",
        "print(true_label)\n",
        "plot_value_array(p_arr, true_label, 1)\n",
        "\n",
        "# Create an array of random numbers from 0 to 255 of size (32, 32, 3)\n",
        "x = np.random.randint(0, 255, (32, 32, 3) )\n"
      ],
      "metadata": {
        "id": "sbZbcCzoVBso"
      },
      "execution_count": null,
      "outputs": []
    }
  ]
}